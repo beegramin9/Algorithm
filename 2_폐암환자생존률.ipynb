{
  "nbformat": 4,
  "nbformat_minor": 0,
  "metadata": {
    "colab": {
      "name": "2_폐암환자생존률.ipynb",
      "private_outputs": true,
      "provenance": [],
      "collapsed_sections": [],
      "authorship_tag": "ABX9TyOu7vr2363jfp7q7Cgqj037",
      "include_colab_link": true
    },
    "kernelspec": {
      "name": "python3",
      "display_name": "Python 3"
    }
  },
  "cells": [
    {
      "cell_type": "markdown",
      "metadata": {
        "id": "view-in-github",
        "colab_type": "text"
      },
      "source": [
        "<a href=\"https://colab.research.google.com/github/beegramin9/Algorithm/blob/main/2_%ED%8F%90%EC%95%94%ED%99%98%EC%9E%90%EC%83%9D%EC%A1%B4%EB%A5%A0.ipynb\" target=\"_parent\"><img src=\"https://colab.research.google.com/assets/colab-badge.svg\" alt=\"Open In Colab\"/></a>"
      ]
    },
    {
      "cell_type": "markdown",
      "metadata": {
        "id": "-c2nSdjIOlEA"
      },
      "source": [
        "### 파일 업로드 (Pandas)"
      ]
    },
    {
      "cell_type": "code",
      "metadata": {
        "id": "vbtZ6CFPNWYp"
      },
      "source": [
        "! unzip data.zip -d dataset"
      ],
      "execution_count": null,
      "outputs": []
    },
    {
      "cell_type": "code",
      "metadata": {
        "id": "3SstiKRMOD8b"
      },
      "source": [
        "! ls -l dataset"
      ],
      "execution_count": null,
      "outputs": []
    },
    {
      "cell_type": "markdown",
      "metadata": {
        "id": "Vi7zSEWFVFeK"
      },
      "source": [
        "### 데이터 탐색"
      ]
    },
    {
      "cell_type": "code",
      "metadata": {
        "id": "uOJhBUjzOXe1"
      },
      "source": [
        "import numpy as np\r\n",
        "import pandas as pd"
      ],
      "execution_count": null,
      "outputs": []
    },
    {
      "cell_type": "code",
      "metadata": {
        "id": "9uG3F9rzVbrT"
      },
      "source": [
        "df = pd.read_csv('dataset/ThoraricSurgery.csv', header=None)\r\n",
        "df.head(3)"
      ],
      "execution_count": null,
      "outputs": []
    },
    {
      "cell_type": "code",
      "metadata": {
        "id": "V5k_JeFhViXP"
      },
      "source": [
        "df.info()"
      ],
      "execution_count": null,
      "outputs": []
    },
    {
      "cell_type": "code",
      "metadata": {
        "id": "y4P5EHZOV3Mc"
      },
      "source": [
        "df.describe()"
      ],
      "execution_count": null,
      "outputs": []
    },
    {
      "cell_type": "markdown",
      "metadata": {
        "id": "7jWEL2u_V_kt"
      },
      "source": [
        "### 트레인 셋, 테스트 셋 만들기"
      ]
    },
    {
      "cell_type": "code",
      "metadata": {
        "id": "W1mBhugAWfh7"
      },
      "source": [
        "from sklearn.model_selection import train_test_split\r\n",
        "import tensorflow as tf"
      ],
      "execution_count": null,
      "outputs": []
    },
    {
      "cell_type": "code",
      "metadata": {
        "id": "LrwxD3kEWzXg"
      },
      "source": [
        "# seed값 고정\r\n",
        "seed = 2021\r\n",
        "np.random.seed(seed)\r\n",
        "tf.random.set_seed(seed)"
      ],
      "execution_count": null,
      "outputs": []
    },
    {
      "cell_type": "code",
      "metadata": {
        "id": "0BMJ44BeV6EU"
      },
      "source": [
        "X_train, X_test, y_train, y_test = train_test_split(\r\n",
        "    df.iloc[:,:-1], df.iloc[:,-1], random_state = seed, \r\n",
        ")\r\n",
        "X_train.shape, X_test.shape"
      ],
      "execution_count": null,
      "outputs": []
    },
    {
      "cell_type": "markdown",
      "metadata": {
        "id": "eeFsJju2fWhC"
      },
      "source": [
        "### 정규화"
      ]
    },
    {
      "cell_type": "code",
      "metadata": {
        "id": "7moQY7XZgNnR"
      },
      "source": [
        "from sklearn.preprocessing import MinMaxScaler"
      ],
      "execution_count": null,
      "outputs": []
    },
    {
      "cell_type": "code",
      "metadata": {
        "id": "laeuKzXPgNxS"
      },
      "source": [
        "scaler = MinMaxScaler()\r\n",
        "scaler.fit(df.iloc[:, :-1])"
      ],
      "execution_count": null,
      "outputs": []
    },
    {
      "cell_type": "code",
      "metadata": {
        "id": "CAmaEmcdgN7B"
      },
      "source": [
        "X_train_scaled = scaler.transform(X_train)\r\n",
        "X_test_scaled = scaler.transform(X_test)\r\n",
        "X_train_scaled.shape, X_test_scaled.shape"
      ],
      "execution_count": null,
      "outputs": []
    },
    {
      "cell_type": "markdown",
      "metadata": {
        "id": "QNXacC4sXmkE"
      },
      "source": [
        "### 모델 정의\r\n",
        "1. 먼저 Keras 라이브러리 import"
      ]
    },
    {
      "cell_type": "code",
      "metadata": {
        "id": "UStZiH7NWziJ"
      },
      "source": [
        "from tensorflow.keras.models import Sequential # 입력층, 은닉층, 출력층 생성\r\n",
        "from tensorflow.keras.layers import Dense # 성능 발전을 위한 파라미터 추가"
      ],
      "execution_count": null,
      "outputs": []
    },
    {
      "cell_type": "code",
      "metadata": {
        "id": "2HZXsMpKWzpO"
      },
      "source": [
        "model = Sequential()\r\n",
        "model.add(Dense(24, # 은닉층의 Node 개수\r\n",
        "                input_shape= (17,), # 입력층의 Node 개수\r\n",
        "                activation = \"relu\"\r\n",
        "                ))\r\n",
        "model.add(Dense(10, # 은닉층의 Node 개수\r\n",
        "                input_shape= (24,), # 입력층의 Node 개수\r\n",
        "                activation = \"relu\"\r\n",
        "                ))\r\n",
        "model.add(Dense(1, # 출력층의 Node 개수(이진분류)\r\n",
        "                activation = \"sigmoid\" \r\n",
        "                )) \r\n",
        "model.summary()"
      ],
      "execution_count": null,
      "outputs": []
    },
    {
      "cell_type": "markdown",
      "metadata": {
        "id": "E_czAXDIb-G8"
      },
      "source": [
        "2. 모델 컴파일(실행환경 설정)"
      ]
    },
    {
      "cell_type": "code",
      "metadata": {
        "id": "6vR3xydbbY1V"
      },
      "source": [
        "model.compile(loss=\"binary_crossentropy\", # 이분류\r\n",
        "              optimizer = \"adam\",\r\n",
        "              metrics = ['accuracy']\r\n",
        "            )"
      ],
      "execution_count": null,
      "outputs": []
    },
    {
      "cell_type": "markdown",
      "metadata": {
        "id": "sJzyXHIUcbpn"
      },
      "source": [
        "3. 모델 학습"
      ]
    },
    {
      "cell_type": "code",
      "metadata": {
        "id": "tYA2OtGbcY20"
      },
      "source": [
        "history = model.fit(X_train_scaled, y_train, \r\n",
        "          epochs = 30, # y - y*이 0행렬에 가까워질 때까지 반복하는 횟수\r\n",
        "          validation_split = 0.2, # 검증셋의 크기\r\n",
        "          batch_size = 10 # 한 번에 트레인하는 데이터(행)의 개수\r\n",
        "          )"
      ],
      "execution_count": null,
      "outputs": []
    },
    {
      "cell_type": "markdown",
      "metadata": {
        "id": "Z1Gs2VgydSaC"
      },
      "source": [
        "### 정확도 평가"
      ]
    },
    {
      "cell_type": "code",
      "metadata": {
        "id": "GANagS0dc4hW"
      },
      "source": [
        "acc = model.evaluate(X_test_scaled, y_test)\r\n",
        "acc # [ loss, accuracy ]"
      ],
      "execution_count": null,
      "outputs": []
    },
    {
      "cell_type": "code",
      "metadata": {
        "id": "fdZOrRYBdd3K"
      },
      "source": [
        "print(f'Accuracy : {acc[1]:.4f}')"
      ],
      "execution_count": null,
      "outputs": []
    },
    {
      "cell_type": "markdown",
      "metadata": {
        "id": "ZX1jF25pjuCD"
      },
      "source": [
        "### 학습 과정 시각화"
      ]
    },
    {
      "cell_type": "code",
      "metadata": {
        "id": "XsOxTIFgjyMc"
      },
      "source": [
        "history.history"
      ],
      "execution_count": null,
      "outputs": []
    },
    {
      "cell_type": "code",
      "metadata": {
        "id": "2X2kzLYUjyXh"
      },
      "source": [
        "history.history[\"accuracy\"][:3]"
      ],
      "execution_count": null,
      "outputs": []
    },
    {
      "cell_type": "code",
      "metadata": {
        "id": "nUbmirHGkWtL"
      },
      "source": [
        "history.history[\"val_accuracy\"][:3]"
      ],
      "execution_count": null,
      "outputs": []
    },
    {
      "cell_type": "code",
      "metadata": {
        "id": "F8Uepagljybh"
      },
      "source": [
        "history.history[\"loss\"][:3]"
      ],
      "execution_count": null,
      "outputs": []
    },
    {
      "cell_type": "code",
      "metadata": {
        "id": "5ErQmvurjyf0"
      },
      "source": [
        "history.history[\"val_loss\"][:3]"
      ],
      "execution_count": null,
      "outputs": []
    },
    {
      "cell_type": "code",
      "metadata": {
        "id": "_iyt74DYlSRn"
      },
      "source": [
        "import matplotlib.pyplot as plt\r\n",
        "%matplotlib inline"
      ],
      "execution_count": null,
      "outputs": []
    },
    {
      "cell_type": "code",
      "metadata": {
        "id": "BP9DnDAvk3Qj"
      },
      "source": [
        "# y_vloss에 테스트셋으로 실험 결과의 오차 값을 지정\r\n",
        "y_vloss = history.history[\"val_loss\"]"
      ],
      "execution_count": null,
      "outputs": []
    },
    {
      "cell_type": "code",
      "metadata": {
        "id": "RHaAge_sk3TR"
      },
      "source": [
        "# y_acc에 트레인셋으로 실험 결과의 오차 값을 지정\r\n",
        "y_acc = history.history[\"accuracy\"]"
      ],
      "execution_count": null,
      "outputs": []
    },
    {
      "cell_type": "code",
      "metadata": {
        "id": "DBgEHOjpk3Wn"
      },
      "source": [
        "# x값을 지정하고 정확도를 파란색으로, 오차를 빨간색으로\r\n",
        "x_len = np.arange(len(y_acc))\r\n",
        "plt.figure(figsize = (12,8))\r\n",
        "plt.plot(x_len, y_vloss, \"o-\", c = \"red\", markersize=5, label= \"vloss\")\r\n",
        "plt.plot(x_len, y_acc, \"o-\", c = \"blue\", markersize=5, label= \"acc\")\r\n",
        "plt.legend()\r\n",
        "plt.show()"
      ],
      "execution_count": null,
      "outputs": []
    },
    {
      "cell_type": "markdown",
      "metadata": {
        "id": "ZD7u6GUsliau"
      },
      "source": [
        ""
      ]
    },
    {
      "cell_type": "code",
      "metadata": {
        "id": "E-gmR1YOk3Z4"
      },
      "source": [
        ""
      ],
      "execution_count": null,
      "outputs": []
    },
    {
      "cell_type": "code",
      "metadata": {
        "id": "u3leO96lk3hV"
      },
      "source": [
        ""
      ],
      "execution_count": null,
      "outputs": []
    },
    {
      "cell_type": "code",
      "metadata": {
        "id": "xxAlw4gUk3l1"
      },
      "source": [
        ""
      ],
      "execution_count": null,
      "outputs": []
    },
    {
      "cell_type": "code",
      "metadata": {
        "id": "LIvuI3DJk3rR"
      },
      "source": [
        ""
      ],
      "execution_count": null,
      "outputs": []
    },
    {
      "cell_type": "markdown",
      "metadata": {
        "id": "XoxYO782hnYF"
      },
      "source": [
        "### 파일 업로드 (Numpy)"
      ]
    },
    {
      "cell_type": "code",
      "metadata": {
        "id": "17Lx9RpzhR0l"
      },
      "source": [
        "from google.colab import files\r\n",
        "uploaded = files.upload()\r\n",
        "uploaded"
      ],
      "execution_count": null,
      "outputs": []
    },
    {
      "cell_type": "code",
      "metadata": {
        "id": "nv9xwYp_hxXw"
      },
      "source": [
        "filename = list(uploaded.keys())[0]\r\n",
        "filename"
      ],
      "execution_count": null,
      "outputs": []
    },
    {
      "cell_type": "code",
      "metadata": {
        "id": "lXBoNgoRh5e8"
      },
      "source": [
        "Data_set = np.loadtxt(filename, delimiter=',')\r\n",
        "Data_set"
      ],
      "execution_count": null,
      "outputs": []
    },
    {
      "cell_type": "code",
      "metadata": {
        "id": "QYddufMYiNZl"
      },
      "source": [
        ""
      ],
      "execution_count": null,
      "outputs": []
    }
  ]
}