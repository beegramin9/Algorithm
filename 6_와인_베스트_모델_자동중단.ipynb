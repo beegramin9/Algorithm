{
  "nbformat": 4,
  "nbformat_minor": 0,
  "metadata": {
    "colab": {
      "name": "6_와인 베스트 모델 자동중단.ipynb",
      "private_outputs": true,
      "provenance": [],
      "collapsed_sections": [],
      "authorship_tag": "ABX9TyPzf+A8jiGmxb89Z9YTM8Z2",
      "include_colab_link": true
    },
    "kernelspec": {
      "name": "python3",
      "display_name": "Python 3"
    }
  },
  "cells": [
    {
      "cell_type": "markdown",
      "metadata": {
        "id": "view-in-github",
        "colab_type": "text"
      },
      "source": [
        "<a href=\"https://colab.research.google.com/github/beegramin9/Algorithm/blob/main/6_%EC%99%80%EC%9D%B8_%EB%B2%A0%EC%8A%A4%ED%8A%B8_%EB%AA%A8%EB%8D%B8_%EC%9E%90%EB%8F%99%EC%A4%91%EB%8B%A8.ipynb\" target=\"_parent\"><img src=\"https://colab.research.google.com/assets/colab-badge.svg\" alt=\"Open In Colab\"/></a>"
      ]
    },
    {
      "cell_type": "code",
      "metadata": {
        "id": "BCUbGs2TY1kE"
      },
      "source": [
        "import numpy as np\r\n",
        "import tensorflow as tf"
      ],
      "execution_count": null,
      "outputs": []
    },
    {
      "cell_type": "code",
      "metadata": {
        "id": "ZYOGhvLDZOcR"
      },
      "source": [
        "seed = 2021\r\n",
        "np.random.seed(seed)\r\n",
        "tf.random.set_seed(seed)"
      ],
      "execution_count": null,
      "outputs": []
    },
    {
      "cell_type": "code",
      "metadata": {
        "id": "6TuI06Z4Za0y"
      },
      "source": [
        "import pandas as pd\r\n",
        "from google.colab import files\r\n",
        "uploaded = files.upload()\r\n",
        "filename = list(uploaded.keys())[0]\r\n",
        "filename"
      ],
      "execution_count": null,
      "outputs": []
    },
    {
      "cell_type": "code",
      "metadata": {
        "id": "sQXkelaGZlEF"
      },
      "source": [
        "df = pd.read_csv(filename, header = None)\r\n",
        "df.head(3)"
      ],
      "execution_count": null,
      "outputs": []
    },
    {
      "cell_type": "code",
      "metadata": {
        "id": "1kl-bhHOZ_uv"
      },
      "source": [
        "df[12].unique()"
      ],
      "execution_count": null,
      "outputs": []
    },
    {
      "cell_type": "code",
      "metadata": {
        "id": "gdcdISK2Zra-"
      },
      "source": [
        "from sklearn.model_selection import train_test_split\r\n",
        "X_train, X_test, y_train, y_test = train_test_split(\r\n",
        "    df.iloc[:,:-1], df.iloc[:,-1], random_state = seed, stratify = df.iloc[:,-1]\r\n",
        ")\r\n",
        "X_train.shape, X_test.shape"
      ],
      "execution_count": null,
      "outputs": []
    },
    {
      "cell_type": "markdown",
      "metadata": {
        "id": "5lCL78dAazfx"
      },
      "source": [
        "모델 정의/설정"
      ]
    },
    {
      "cell_type": "code",
      "metadata": {
        "id": "MnGECBtgawGa"
      },
      "source": [
        "from tensorflow.keras.models import Sequential\r\n",
        "from tensorflow.keras.layers import Dense"
      ],
      "execution_count": null,
      "outputs": []
    },
    {
      "cell_type": "code",
      "metadata": {
        "id": "dkJYFf-cbGMV"
      },
      "source": [
        "model = Sequential()\r\n",
        "model.add(Dense(30, input_dim = 12, activation = \"relu\"))\r\n",
        "model.add(Dense(12, activation = \"relu\"))\r\n",
        "model.add(Dense(8, activation = \"relu\"))\r\n",
        "model.add(Dense(1, activation = \"sigmoid\"))\r\n",
        "model.summary()"
      ],
      "execution_count": null,
      "outputs": []
    },
    {
      "cell_type": "code",
      "metadata": {
        "id": "TmQh3kgzbrzD"
      },
      "source": [
        "model.compile(loss='binary_crossentropy',\r\n",
        "              optimizer='adam',\r\n",
        "              metrics=['accuracy'])"
      ],
      "execution_count": null,
      "outputs": []
    },
    {
      "cell_type": "markdown",
      "metadata": {
        "id": "BFm6tJI9b6-T"
      },
      "source": [
        "모델 저장 <br>\r\n",
        "최솟값 val_loss을 가진 모델을 저장하는 방법"
      ]
    },
    {
      "cell_type": "code",
      "metadata": {
        "id": "bHYAT03rb0zA"
      },
      "source": [
        "# 모델 저장 경로\r\n",
        "import os\r\n",
        "MODEL_DIR = './model/'\r\n",
        "if not os.path.exists(MODEL_DIR):\r\n",
        "    os.mkdir(MODEL_DIR)"
      ],
      "execution_count": null,
      "outputs": []
    },
    {
      "cell_type": "code",
      "metadata": {
        "id": "e3NtUOGHcP3S"
      },
      "source": [
        "! ls -l"
      ],
      "execution_count": null,
      "outputs": []
    },
    {
      "cell_type": "code",
      "metadata": {
        "id": "BJYn5fwycUx1"
      },
      "source": [
        "# 모델 저장 조건 설정\r\n",
        "modelpath = MODEL_DIR + \"best{epoch:03d}-{val_loss:.4f}.hdf5\""
      ],
      "execution_count": null,
      "outputs": []
    },
    {
      "cell_type": "code",
      "metadata": {
        "id": "msAgmSQmcU0X"
      },
      "source": [
        "# ModelCheckpoint: 한 epoch마다 모델의 속성값을 체크\r\n",
        "# EarlyStopping: 자동중단, patience만큼 기다렸는데 최솟값이 갱신되지 않으면 stop\r\n",
        "from tensorflow.keras.callbacks import ModelCheckpoint, EarlyStopping\r\n",
        "checkpointer = ModelCheckpoint(filepath = modelpath, monitor='val_loss', # 체크할 속성값 acc, val_acc, loss, val_loss\r\n",
        "                               verbose = 1,\r\n",
        "                               save_best_only = True # 최솟값이 갱신될때만 저장함\r\n",
        "                               )\r\n",
        "early_stopping = EarlyStopping(monitor='val_loss', patience = 30)"
      ],
      "execution_count": null,
      "outputs": []
    },
    {
      "cell_type": "markdown",
      "metadata": {
        "id": "EwF-CHrgdabp"
      },
      "source": [
        "모델 학습 및 저장"
      ]
    },
    {
      "cell_type": "code",
      "metadata": {
        "id": "aMV4B1a7cU21"
      },
      "source": [
        "history = model.fit(X_train, y_train, validation_split=0.2, epochs=500, batch_size=200,\r\n",
        "          verbose=0, \r\n",
        "          callbacks=[checkpointer, early_stopping] # epoch 한바퀴 돌 때마다 callback함수를 실행함\r\n",
        "          )"
      ],
      "execution_count": null,
      "outputs": []
    },
    {
      "cell_type": "markdown",
      "metadata": {
        "id": "EV-47AmNcR3J"
      },
      "source": [
        "잘못된 평가"
      ]
    },
    {
      "cell_type": "code",
      "metadata": {
        "id": "FDQG1DcBcU5Z"
      },
      "source": [
        "# best model이 아니기 때문에 잘못된 평가\r\n",
        "acc = model.evaluate(X_test, y_test)\r\n",
        "print(f\"Accuracy: {acc[1]:.4f}\")"
      ],
      "execution_count": null,
      "outputs": []
    },
    {
      "cell_type": "markdown",
      "metadata": {
        "id": "-zzkLc1AfDq6"
      },
      "source": [
        "베스트 모델로 평가"
      ]
    },
    {
      "cell_type": "code",
      "metadata": {
        "id": "Io4C5qKocVLd"
      },
      "source": [
        "from tensorflow.keras.models import load_model\r\n",
        "\r\n",
        "best_model = load_model('./model/best246-0.0513.hdf5')\r\n",
        "acc = best_model.evaluate(X_test, y_test)\r\n",
        "print(f\"Accuracy: {acc[1]:.4f}\")"
      ],
      "execution_count": null,
      "outputs": []
    },
    {
      "cell_type": "markdown",
      "metadata": {
        "id": "R1qxhM7TgOgC"
      },
      "source": [
        "시각화"
      ]
    },
    {
      "cell_type": "code",
      "metadata": {
        "id": "bcn99LLEe_9V"
      },
      "source": [
        "import matplotlib.pyplot as plt\r\n",
        "%matplotlib inline"
      ],
      "execution_count": null,
      "outputs": []
    },
    {
      "cell_type": "code",
      "metadata": {
        "id": "cJ7rPTS3gV92"
      },
      "source": [
        "# acc, val_acc, loss, val_loss\r\n",
        "history.history"
      ],
      "execution_count": null,
      "outputs": []
    },
    {
      "cell_type": "code",
      "metadata": {
        "id": "u2lg8qR4gs-T"
      },
      "source": [
        "y_vloss = history.history['val_loss']\r\n",
        "y_acc = history.history['accuracy']\r\n",
        "y_vacc = history.history['val_accuracy']\r\n",
        "y_loss = history.history['loss']"
      ],
      "execution_count": null,
      "outputs": []
    },
    {
      "cell_type": "code",
      "metadata": {
        "id": "HK0ZtlayhTiW"
      },
      "source": [
        "x_len = np.arange(len(y_acc))\r\n",
        "plt.figure(figsize=(12,8))\r\n",
        "plt.plot(x_len, y_vloss, \"o\", c = \"red\", markersize=1, label=\"val_loss\")\r\n",
        "plt.plot(x_len, y_acc, \"o\", c = \"blue\", markersize=1, label=\"accuracy\")\r\n",
        "plt.plot(x_len, y_vacc, \"o\", c = \"orange\", markersize=1, label=\"val_accuracy\")\r\n",
        "plt.plot(x_len, y_loss, \"o\", c = \"green\", markersize=1, label=\"loss\")\r\n",
        "plt.grid()\r\n",
        "plt.legend()\r\n",
        "plt.show()"
      ],
      "execution_count": null,
      "outputs": []
    }
  ]
}